{
  "nbformat": 4,
  "nbformat_minor": 0,
  "metadata": {
    "colab": {
      "provenance": []
    },
    "kernelspec": {
      "name": "python3",
      "display_name": "Python 3"
    },
    "language_info": {
      "name": "python"
    }
  },
  "cells": [
    {
      "cell_type": "code",
      "source": [
        "from google.colab import files\n",
        "upladed=files.upload()"
      ],
      "metadata": {
        "colab": {
          "base_uri": "https://localhost:8080/",
          "height": 73
        },
        "id": "2iiDcM9nuXk7",
        "outputId": "c7407766-abc6-4c4a-a51b-d9c84ec3c095"
      },
      "execution_count": 15,
      "outputs": [
        {
          "output_type": "display_data",
          "data": {
            "text/plain": [
              "<IPython.core.display.HTML object>"
            ],
            "text/html": [
              "\n",
              "     <input type=\"file\" id=\"files-25dcc413-9c55-4327-b932-af91c16df360\" name=\"files[]\" multiple disabled\n",
              "        style=\"border:none\" />\n",
              "     <output id=\"result-25dcc413-9c55-4327-b932-af91c16df360\">\n",
              "      Upload widget is only available when the cell has been executed in the\n",
              "      current browser session. Please rerun this cell to enable.\n",
              "      </output>\n",
              "      <script>// Copyright 2017 Google LLC\n",
              "//\n",
              "// Licensed under the Apache License, Version 2.0 (the \"License\");\n",
              "// you may not use this file except in compliance with the License.\n",
              "// You may obtain a copy of the License at\n",
              "//\n",
              "//      http://www.apache.org/licenses/LICENSE-2.0\n",
              "//\n",
              "// Unless required by applicable law or agreed to in writing, software\n",
              "// distributed under the License is distributed on an \"AS IS\" BASIS,\n",
              "// WITHOUT WARRANTIES OR CONDITIONS OF ANY KIND, either express or implied.\n",
              "// See the License for the specific language governing permissions and\n",
              "// limitations under the License.\n",
              "\n",
              "/**\n",
              " * @fileoverview Helpers for google.colab Python module.\n",
              " */\n",
              "(function(scope) {\n",
              "function span(text, styleAttributes = {}) {\n",
              "  const element = document.createElement('span');\n",
              "  element.textContent = text;\n",
              "  for (const key of Object.keys(styleAttributes)) {\n",
              "    element.style[key] = styleAttributes[key];\n",
              "  }\n",
              "  return element;\n",
              "}\n",
              "\n",
              "// Max number of bytes which will be uploaded at a time.\n",
              "const MAX_PAYLOAD_SIZE = 100 * 1024;\n",
              "\n",
              "function _uploadFiles(inputId, outputId) {\n",
              "  const steps = uploadFilesStep(inputId, outputId);\n",
              "  const outputElement = document.getElementById(outputId);\n",
              "  // Cache steps on the outputElement to make it available for the next call\n",
              "  // to uploadFilesContinue from Python.\n",
              "  outputElement.steps = steps;\n",
              "\n",
              "  return _uploadFilesContinue(outputId);\n",
              "}\n",
              "\n",
              "// This is roughly an async generator (not supported in the browser yet),\n",
              "// where there are multiple asynchronous steps and the Python side is going\n",
              "// to poll for completion of each step.\n",
              "// This uses a Promise to block the python side on completion of each step,\n",
              "// then passes the result of the previous step as the input to the next step.\n",
              "function _uploadFilesContinue(outputId) {\n",
              "  const outputElement = document.getElementById(outputId);\n",
              "  const steps = outputElement.steps;\n",
              "\n",
              "  const next = steps.next(outputElement.lastPromiseValue);\n",
              "  return Promise.resolve(next.value.promise).then((value) => {\n",
              "    // Cache the last promise value to make it available to the next\n",
              "    // step of the generator.\n",
              "    outputElement.lastPromiseValue = value;\n",
              "    return next.value.response;\n",
              "  });\n",
              "}\n",
              "\n",
              "/**\n",
              " * Generator function which is called between each async step of the upload\n",
              " * process.\n",
              " * @param {string} inputId Element ID of the input file picker element.\n",
              " * @param {string} outputId Element ID of the output display.\n",
              " * @return {!Iterable<!Object>} Iterable of next steps.\n",
              " */\n",
              "function* uploadFilesStep(inputId, outputId) {\n",
              "  const inputElement = document.getElementById(inputId);\n",
              "  inputElement.disabled = false;\n",
              "\n",
              "  const outputElement = document.getElementById(outputId);\n",
              "  outputElement.innerHTML = '';\n",
              "\n",
              "  const pickedPromise = new Promise((resolve) => {\n",
              "    inputElement.addEventListener('change', (e) => {\n",
              "      resolve(e.target.files);\n",
              "    });\n",
              "  });\n",
              "\n",
              "  const cancel = document.createElement('button');\n",
              "  inputElement.parentElement.appendChild(cancel);\n",
              "  cancel.textContent = 'Cancel upload';\n",
              "  const cancelPromise = new Promise((resolve) => {\n",
              "    cancel.onclick = () => {\n",
              "      resolve(null);\n",
              "    };\n",
              "  });\n",
              "\n",
              "  // Wait for the user to pick the files.\n",
              "  const files = yield {\n",
              "    promise: Promise.race([pickedPromise, cancelPromise]),\n",
              "    response: {\n",
              "      action: 'starting',\n",
              "    }\n",
              "  };\n",
              "\n",
              "  cancel.remove();\n",
              "\n",
              "  // Disable the input element since further picks are not allowed.\n",
              "  inputElement.disabled = true;\n",
              "\n",
              "  if (!files) {\n",
              "    return {\n",
              "      response: {\n",
              "        action: 'complete',\n",
              "      }\n",
              "    };\n",
              "  }\n",
              "\n",
              "  for (const file of files) {\n",
              "    const li = document.createElement('li');\n",
              "    li.append(span(file.name, {fontWeight: 'bold'}));\n",
              "    li.append(span(\n",
              "        `(${file.type || 'n/a'}) - ${file.size} bytes, ` +\n",
              "        `last modified: ${\n",
              "            file.lastModifiedDate ? file.lastModifiedDate.toLocaleDateString() :\n",
              "                                    'n/a'} - `));\n",
              "    const percent = span('0% done');\n",
              "    li.appendChild(percent);\n",
              "\n",
              "    outputElement.appendChild(li);\n",
              "\n",
              "    const fileDataPromise = new Promise((resolve) => {\n",
              "      const reader = new FileReader();\n",
              "      reader.onload = (e) => {\n",
              "        resolve(e.target.result);\n",
              "      };\n",
              "      reader.readAsArrayBuffer(file);\n",
              "    });\n",
              "    // Wait for the data to be ready.\n",
              "    let fileData = yield {\n",
              "      promise: fileDataPromise,\n",
              "      response: {\n",
              "        action: 'continue',\n",
              "      }\n",
              "    };\n",
              "\n",
              "    // Use a chunked sending to avoid message size limits. See b/62115660.\n",
              "    let position = 0;\n",
              "    do {\n",
              "      const length = Math.min(fileData.byteLength - position, MAX_PAYLOAD_SIZE);\n",
              "      const chunk = new Uint8Array(fileData, position, length);\n",
              "      position += length;\n",
              "\n",
              "      const base64 = btoa(String.fromCharCode.apply(null, chunk));\n",
              "      yield {\n",
              "        response: {\n",
              "          action: 'append',\n",
              "          file: file.name,\n",
              "          data: base64,\n",
              "        },\n",
              "      };\n",
              "\n",
              "      let percentDone = fileData.byteLength === 0 ?\n",
              "          100 :\n",
              "          Math.round((position / fileData.byteLength) * 100);\n",
              "      percent.textContent = `${percentDone}% done`;\n",
              "\n",
              "    } while (position < fileData.byteLength);\n",
              "  }\n",
              "\n",
              "  // All done.\n",
              "  yield {\n",
              "    response: {\n",
              "      action: 'complete',\n",
              "    }\n",
              "  };\n",
              "}\n",
              "\n",
              "scope.google = scope.google || {};\n",
              "scope.google.colab = scope.google.colab || {};\n",
              "scope.google.colab._files = {\n",
              "  _uploadFiles,\n",
              "  _uploadFilesContinue,\n",
              "};\n",
              "})(self);\n",
              "</script> "
            ]
          },
          "metadata": {}
        },
        {
          "output_type": "stream",
          "name": "stdout",
          "text": [
            "Saving train.csv to train.csv\n"
          ]
        }
      ]
    },
    {
      "cell_type": "code",
      "source": [
        "import matplotlib.pyplot as plt\n",
        "import pandas as pd\n",
        "# Step 2: Load the dataset\n",
        "data = pd.read_csv(\"train.csv\")\n",
        "# Step 3: Check for missing values\n",
        "missing_values = data.isnull().sum()\n",
        "# Step 4: Drop rows with missing \"parental level of education\"\n",
        "# Missing values typically occur in the Column [parental level of education]\n",
        "cleaned_data = data.dropna (subset=[\"Age\",\"Fare\",\"Embarked\"])\n",
        "# Step 5: Drop duplicate rows if there any\n",
        "cleaned_data = cleaned_data.drop_duplicates()\n",
        "# Step 6: Final check after cleaning\n",
        "final_missing = cleaned_data.isnull().sum()\n",
        "final_shape = cleaned_data.shape\n",
        "print(\"Final Missing Values:\")\n",
        "print(final_missing)\n",
        "print(\"\\nFinal Shape of cleaned Data:\")\n",
        "print(final_shape)"
      ],
      "metadata": {
        "colab": {
          "base_uri": "https://localhost:8080/",
          "height": 0
        },
        "id": "o05nOI_2wtAR",
        "outputId": "6d4275c5-2548-4c0d-8950-5da99a367f8d"
      },
      "execution_count": 17,
      "outputs": [
        {
          "output_type": "stream",
          "name": "stdout",
          "text": [
            "Final Missing Values:\n",
            "PassengerId    0\n",
            "Survived       0\n",
            "Pclass         0\n",
            "Name           0\n",
            "Sex            0\n",
            "Age            0\n",
            "SibSp          0\n",
            "Parch          0\n",
            "Fare           0\n",
            "Embarked       0\n",
            "dtype: int64\n",
            "\n",
            "Final Shape of cleaned Data:\n",
            "(712, 10)\n"
          ]
        }
      ]
    },
    {
      "cell_type": "code",
      "source": [
        "# Question 1\n",
        "# Mean ,Min and Max  of Age, Fare, SibSp, and Parch\n",
        "age_avg = cleaned_data[\"Age\"].mean()\n",
        "age_min=cleaned_data[\"Age\"].min()\n",
        "age_max = cleaned_data[\"Age\"].max()\n",
        "fare_avg = cleaned_data[\"Fare\"].mean()\n",
        "fare_min=cleaned_data[\"Fare\"].min()\n",
        "fare_max = cleaned_data[\"Fare\"].max()\n",
        "SibSp_avg = cleaned_data[\"SibSp\"].mean()\n",
        "SibSp_min=cleaned_data[\"SibSp\"].min()\n",
        "SibSp_max = cleaned_data[\"SibSp\"].max()\n",
        "parch_avg = cleaned_data[\"Parch\"].mean()\n",
        "parch_min=cleaned_data[\"Parch\"].min()\n",
        "parch_max = cleaned_data[\"Parch\"].max()\n",
        "print(f\"Age  - Mean: {age_avg}\")\n",
        "print(f\"Age  - Min: {age_min}\")\n",
        "print(f\"Age  - Max: {age_max}\")\n",
        "print(f\"Fare  - Mean: {fare_min}\")\n",
        "print(f\"Fare  - Min: {fare_min}\")\n",
        "print(f\"Fare  - Max: {fare_min}\")\n",
        "print(f\"SibSp  - Mean: {SibSp_avg}\")\n",
        "print(f\"SibSp  - Min: {SibSp_min}\")\n",
        "print(f\"SibSp  - Max: {SibSp_max}\")\n",
        "print(f\"Parch  - Mean: {SibSp_avg}\")\n",
        "print(f\"Parch  - Min: {SibSp_min}\")\n",
        "print(f\"Parch  - Max: {SibSp_max}\")\n",
        "print(\"----------------------------------------------------------------------\")"
      ],
      "metadata": {
        "colab": {
          "base_uri": "https://localhost:8080/",
          "height": 0
        },
        "id": "NAAcNT1R2ota",
        "outputId": "eabb5c91-b66c-49d2-b395-b7bea60ba6d0"
      },
      "execution_count": 26,
      "outputs": [
        {
          "output_type": "stream",
          "name": "stdout",
          "text": [
            "Age  - Mean: 29.64209269662921\n",
            "Age  - Min: 0.42\n",
            "Age  - Max: 80.0\n",
            "Fare  - Mean: 0.0\n",
            "Fare  - Min: 0.0\n",
            "Fare  - Max: 0.0\n",
            "SibSp  - Mean: 0.5140449438202247\n",
            "SibSp  - Min: 0\n",
            "SibSp  - Max: 5\n",
            "Parch  - Mean: 0.5140449438202247\n",
            "Parch  - Min: 0\n",
            "Parch  - Max: 5\n",
            "------------------------------------------------------------------------------\n"
          ]
        }
      ]
    },
    {
      "cell_type": "code",
      "source": [
        "# Question 2\n",
        "# Survivors vs non-survivors among passengers under 18 in 3rd class\n",
        "under_18 = cleaned_data[(cleaned_data['Age']<18) & (cleaned_data['Pclass'] ==3 )]\n",
        "print(f\"\\nThe number of passenger which are under 18:\\n {under_18['Survived'].value_counts()}\")\n",
        "print(\"------------------------------------------------------------------------------\")\n"
      ],
      "metadata": {
        "colab": {
          "base_uri": "https://localhost:8080/",
          "height": 0
        },
        "id": "qaVDWw3O8YcI",
        "outputId": "87fbd61d-50f1-412e-fcf3-6de5e492522e"
      },
      "execution_count": 44,
      "outputs": [
        {
          "output_type": "stream",
          "name": "stdout",
          "text": [
            "\n",
            "The number of passenger which are under 18:\n",
            " Survived\n",
            "0    49\n",
            "1    29\n",
            "Name: count, dtype: int64\n",
            "------------------------------------------------------------------------------\n"
          ]
        }
      ]
    },
    {
      "cell_type": "code",
      "source": [
        "# Question 3\n",
        "# Survival rate of female passengers in 1st class\n",
        "female_rt = cleaned_data[(cleaned_data['Sex']=='female') & (cleaned_data['Pclass']==1)]\n",
        "female_rt = female_rt['Survived'].mean() * 100\n",
        "print(f\"Survival rate of females in 1st class = {female_rt}%\")\n",
        "print(\"------------------------------------------------------------------------------\")"
      ],
      "metadata": {
        "colab": {
          "base_uri": "https://localhost:8080/",
          "height": 0
        },
        "id": "iJSfboQX_A8g",
        "outputId": "f360c246-e742-498b-99dd-db1e16eeab25"
      },
      "execution_count": 33,
      "outputs": [
        {
          "output_type": "stream",
          "name": "stdout",
          "text": [
            "Survival rate of females in 1st class = 96.3855421686747%\n",
            "------------------------------------------------------------------------------\n"
          ]
        }
      ]
    },
    {
      "cell_type": "code",
      "source": [
        "# Question 4\n",
        "# Average Fare and Age by Embarkation port\n",
        "group_age = cleaned_data.groupby('Embarked')['Age'].mean()\n",
        "group_fare = cleaned_data.groupby('Embarked')['Fare'].mean()\n",
        "print(\"Avg Age by Embarked\")\n",
        "print(group_age)\n",
        "print(\"Avg Fare by Embarked\")\n",
        "print(group_fare)\n",
        "print(\"------------------------------------------------------------------------------\")"
      ],
      "metadata": {
        "colab": {
          "base_uri": "https://localhost:8080/",
          "height": 0
        },
        "id": "SoG2W7NP_h-X",
        "outputId": "8657f24d-210f-449f-f850-640c76067440"
      },
      "execution_count": 32,
      "outputs": [
        {
          "output_type": "stream",
          "name": "stdout",
          "text": [
            "Avg Age by Embarked\n",
            "Embarked\n",
            "C    30.814769\n",
            "Q    28.089286\n",
            "S    29.445397\n",
            "Name: Age, dtype: float64\n",
            "Avg Fare by Embarked\n",
            "Embarked\n",
            "C    68.296767\n",
            "Q    18.265775\n",
            "S    27.476284\n",
            "Name: Fare, dtype: float64\n",
            "------------------------------------------------------------------------------\n"
          ]
        }
      ]
    },
    {
      "cell_type": "code",
      "source": [
        "# Question 5\n",
        "# Top 10 fare-paying passengers\n",
        "top_fare = cleaned_data.sort_values(by='Fare', ascending=False).head(10)\n",
        "print(\"Top 10 fare-paying passengers\")\n",
        "print(top_fare[['Name','Fare']])\n",
        "print(\"------------------------------------------------------------------------------\")"
      ],
      "metadata": {
        "colab": {
          "base_uri": "https://localhost:8080/",
          "height": 0
        },
        "id": "VaV56wsn_1jv",
        "outputId": "a8c984fa-10d7-4444-a435-5a68e623f932"
      },
      "execution_count": 28,
      "outputs": [
        {
          "output_type": "stream",
          "name": "stdout",
          "text": [
            "Top 10 fare-paying passengers\n",
            "                                                Name      Fare\n",
            "258                                 Ward, Miss. Anna  512.3292\n",
            "737                           Lesurer, Mr. Gustave J  512.3292\n",
            "679               Cardeza, Mr. Thomas Drake Martinez  512.3292\n",
            "88                        Fortune, Miss. Mabel Helen  263.0000\n",
            "438                                Fortune, Mr. Mark  263.0000\n",
            "27                    Fortune, Mr. Charles Alexander  263.0000\n",
            "341                   Fortune, Miss. Alice Elizabeth  263.0000\n",
            "742            Ryerson, Miss. Susan Parker \"Suzette\"  262.3750\n",
            "311                       Ryerson, Miss. Emily Borie  262.3750\n",
            "299  Baxter, Mrs. James (Helene DeLaudeniere Chaput)  247.5208\n",
            "------------------------------------------------------------------------------\n"
          ]
        }
      ]
    },
    {
      "cell_type": "code",
      "source": [
        "# Question 6\n",
        "# For each Pclass, count travelers with FamilySize > 4, sorted descending\n",
        "# Create FamilySize column\n",
        "cleaned_data['FamilySize'] = cleaned_data['SibSp'] + cleaned_data['Parch'] + 1\n",
        "familly_size = cleaned_data[cleaned_data['FamilySize'] > 4]\n",
        "counts_by_class = familly_size['Pclass'].value_counts().sort_values(ascending=False)\n",
        "print(\"Pclass sorted by count of FamilySize>4:\")\n",
        "print(counts_by_class)\n",
        "(\"------------------------------------------------------------------------------\")"
      ],
      "metadata": {
        "colab": {
          "base_uri": "https://localhost:8080/",
          "height": 0
        },
        "id": "0xvPUEgTBtm_",
        "outputId": "b4fbf9f7-aea4-4aac-8359-32b825a5adbb"
      },
      "execution_count": 36,
      "outputs": [
        {
          "output_type": "stream",
          "name": "stdout",
          "text": [
            "Pclass sorted by count of FamilySize>4\n",
            "Pclass\n",
            "3    43\n",
            "1     6\n",
            "2     2\n",
            "Name: count, dtype: int64\n",
            "--------------------------------------------------\n"
          ]
        }
      ]
    },
    {
      "cell_type": "code",
      "source": [
        "# Question 7\n",
        "# Top 10 oldest survivors\n",
        "old_survivor = cleaned_data[cleaned_data['Survived']==1].sort_values(by='Age', ascending=False).head(10)\n",
        "print(\"Top 10 oldest survivors:\")\n",
        "print(old_survivor[['Name','Age']])\n",
        "(\"------------------------------------------------------------------------------\")"
      ],
      "metadata": {
        "colab": {
          "base_uri": "https://localhost:8080/",
          "height": 244
        },
        "id": "8l3ul9H3C5SX",
        "outputId": "bbd80ae6-20cb-4b02-a9e6-0336a7ecb381"
      },
      "execution_count": 45,
      "outputs": [
        {
          "output_type": "stream",
          "name": "stdout",
          "text": [
            "Top 10 oldest survivors:\n",
            "                                                 Name   Age\n",
            "630              Barkworth, Mr. Algernon Henry Wilson  80.0\n",
            "483                            Turkula, Mrs. (Hedwig)  63.0\n",
            "275                 Andrews, Miss. Kornelia Theodosia  63.0\n",
            "570                                Harris, Mr. George  62.0\n",
            "587                  Frolicher-Stehli, Mr. Maxmillian  60.0\n",
            "366  Warren, Mrs. Frank Manley (Anna Sophia Atkinson)  60.0\n",
            "195                              Lurette, Miss. Elise  58.0\n",
            "268     Graham, Mrs. William Thompson (Edith Junkins)  58.0\n",
            "11                           Bonnell, Miss. Elizabeth  58.0\n",
            "879     Potter, Mrs. Thomas Jr (Lily Alexenia Wilson)  56.0\n"
          ]
        },
        {
          "output_type": "execute_result",
          "data": {
            "text/plain": [
              "'------------------------------------------------------------------------------'"
            ],
            "application/vnd.google.colaboratory.intrinsic+json": {
              "type": "string"
            }
          },
          "metadata": {},
          "execution_count": 45
        }
      ]
    },
    {
      "cell_type": "code",
      "source": [
        "# Question 8\n",
        "# Bar chart of survival rate by gender\n",
        "surv_by_gender = cleaned_data.groupby('Sex')['Survived'].mean() * 100\n",
        "plt.figure()\n",
        "surv_by_gender.plot(kind='bar')\n",
        "plt.title('Survival Rate by Gender')\n",
        "plt.xlabel('Gender')\n",
        "plt.ylabel('Survival Rate (%)')\n",
        "plt.legend(['Survival Rate'])\n",
        "plt.show()\n",
        "(\"------------------------------------------------------------------------------\")"
      ],
      "metadata": {
        "colab": {
          "base_uri": "https://localhost:8080/",
          "height": 525
        },
        "id": "uf0Dm7YlE4b_",
        "outputId": "9d9263c6-c5dc-41c0-837e-892c5b1dbc91"
      },
      "execution_count": 50,
      "outputs": [
        {
          "output_type": "display_data",
          "data": {
            "text/plain": [
              "<Figure size 640x480 with 1 Axes>"
            ],
            "image/png": "[encoded data removed]"
          },
          "metadata": {}
        },
        {
          "output_type": "execute_result",
          "data": {
            "text/plain": [
              "'------------------------------------------------------------------------------'"
            ],
            "application/vnd.google.colaboratory.intrinsic+json": {
              "type": "string"
            }
          },
          "metadata": {},
          "execution_count": 50
        }
      ]
    },
    {
      "cell_type": "code",
      "source": [
        "# Question 9\n",
        "# Pie chart of passenger distribution by embarkation port\n",
        "embark_cnt = cleaned_data['Embarked'].value_counts()\n",
        "plt.figure()\n",
        "embark_cnt.plot(kind='pie', autopct='%1.1f%%')\n",
        "plt.title('Passenger Distribution by Embarked Port')\n",
        "plt.ylabel('')\n",
        "plt.show()\n",
        "(\"------------------------------------------------------------------------------\")"
      ],
      "metadata": {
        "colab": {
          "base_uri": "https://localhost:8080/",
          "height": 428
        },
        "id": "QW_WvSU4Fkk_",
        "outputId": "d96737c4-93eb-4db2-87e7-a3b9e4ff876e"
      },
      "execution_count": 48,
      "outputs": [
        {
          "output_type": "display_data",
          "data": {
            "text/plain": [
              "<Figure size 640x480 with 1 Axes>"
            ],
            "image/png": "[encoded data removed]"
          },
          "metadata": {}
        }
      ]
    },
    {
      "cell_type": "code",
      "source": [
        "# Question 10\n",
        "# survival rate by Fare band\n",
        "cleaned_data['FareBand'] = pd.qcut(cleaned_data['Fare'], 3, labels=['Low','Medium','High'])\n",
        "surv_by_band = cleaned_data.groupby('FareBand')['Survived'].mean() * 100\n",
        "plt.figure()\n",
        "surv_by_band.plot()\n",
        "plt.title('Survival Rate by Fare Band')\n",
        "plt.xlabel('Fare Band')\n",
        "plt.ylabel('Survival Rate (%)')\n",
        "plt.show()\n",
        "(\"------------------------------------------------------------------------------\")"
      ],
      "metadata": {
        "colab": {
          "base_uri": "https://localhost:8080/",
          "height": 545
        },
        "id": "TmH8WQYYFqmX",
        "outputId": "520d8f6b-ed87-4b0e-bc82-b3e8c7c44865"
      },
      "execution_count": 61,
      "outputs": [
        {
          "output_type": "stream",
          "name": "stderr",
          "text": [
            "/tmp/ipython-input-61-2526465884.py:4: FutureWarning: The default of observed=False is deprecated and will be changed to True in a future version of pandas. Pass observed=False to retain current behavior or observed=True to adopt the future default and silence this warning.\n",
            "  surv_by_band = cleaned_data.groupby('FareBand')['Survived'].mean() * 100\n"
          ]
        },
        {
          "output_type": "display_data",
          "data": {
            "text/plain": [
              "<Figure size 640x480 with 1 Axes>"
            ],
            "image/png": "[encoded data removed]"
          },
          "metadata": {}
        },
        {
          "output_type": "execute_result",
          "data": {
            "text/plain": [
              "'------------------------------------------------------------------------------'"
            ],
            "application/vnd.google.colaboratory.intrinsic+json": {
              "type": "string"
            }
          },
          "metadata": {},
          "execution_count": 61
        }
      ]
    }
  ]
}